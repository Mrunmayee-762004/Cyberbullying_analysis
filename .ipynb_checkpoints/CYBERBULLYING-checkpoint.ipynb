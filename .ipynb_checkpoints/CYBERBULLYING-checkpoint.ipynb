{
 "cells": [
  {
   "cell_type": "markdown",
   "id": "ff42ced4",
   "metadata": {},
   "source": [
    "# cyberbulling: EDI project"
   ]
  },
  {
   "cell_type": "code",
   "execution_count": 147,
   "id": "39e7af5f",
   "metadata": {},
   "outputs": [],
   "source": [
    "#importing needed libraries\n",
    "import pandas as pd\n",
    "import numpy as np\n",
    "import matplotlib.pyplot as plt"
   ]
  },
  {
   "cell_type": "markdown",
   "id": "994ecb29",
   "metadata": {},
   "source": [
    "### Data reading"
   ]
  },
  {
   "cell_type": "code",
   "execution_count": 113,
   "id": "ba2764da",
   "metadata": {},
   "outputs": [],
   "source": [
    "cb =pd.read_csv(\"Cyberbullying.csv\")"
   ]
  },
  {
   "cell_type": "code",
   "execution_count": 114,
   "id": "1e67da41",
   "metadata": {},
   "outputs": [
    {
     "data": {
      "text/html": [
       "<div>\n",
       "<style scoped>\n",
       "    .dataframe tbody tr th:only-of-type {\n",
       "        vertical-align: middle;\n",
       "    }\n",
       "\n",
       "    .dataframe tbody tr th {\n",
       "        vertical-align: top;\n",
       "    }\n",
       "\n",
       "    .dataframe thead th {\n",
       "        text-align: right;\n",
       "    }\n",
       "</style>\n",
       "<table border=\"1\" class=\"dataframe\">\n",
       "  <thead>\n",
       "    <tr style=\"text-align: right;\">\n",
       "      <th></th>\n",
       "      <th>tweet_text</th>\n",
       "      <th>text</th>\n",
       "    </tr>\n",
       "  </thead>\n",
       "  <tbody>\n",
       "    <tr>\n",
       "      <th>0</th>\n",
       "      <td>In other words #katandandre, your food was cra...</td>\n",
       "      <td>not_cyberbullying</td>\n",
       "    </tr>\n",
       "    <tr>\n",
       "      <th>1</th>\n",
       "      <td>Why is #aussietv so white? #MKR #theblock #ImA...</td>\n",
       "      <td>not_cyberbullying</td>\n",
       "    </tr>\n",
       "    <tr>\n",
       "      <th>2</th>\n",
       "      <td>@XochitlSuckkks a classy whore? Or more red ve...</td>\n",
       "      <td>not_cyberbullying</td>\n",
       "    </tr>\n",
       "    <tr>\n",
       "      <th>3</th>\n",
       "      <td>@Jason_Gio meh. :P  thanks for the heads up, b...</td>\n",
       "      <td>not_cyberbullying</td>\n",
       "    </tr>\n",
       "    <tr>\n",
       "      <th>4</th>\n",
       "      <td>@RudhoeEnglish This is an ISIS account pretend...</td>\n",
       "      <td>not_cyberbullying</td>\n",
       "    </tr>\n",
       "  </tbody>\n",
       "</table>\n",
       "</div>"
      ],
      "text/plain": [
       "                                          tweet_text               text\n",
       "0  In other words #katandandre, your food was cra...  not_cyberbullying\n",
       "1  Why is #aussietv so white? #MKR #theblock #ImA...  not_cyberbullying\n",
       "2  @XochitlSuckkks a classy whore? Or more red ve...  not_cyberbullying\n",
       "3  @Jason_Gio meh. :P  thanks for the heads up, b...  not_cyberbullying\n",
       "4  @RudhoeEnglish This is an ISIS account pretend...  not_cyberbullying"
      ]
     },
     "execution_count": 114,
     "metadata": {},
     "output_type": "execute_result"
    }
   ],
   "source": [
    "cb.head()"
   ]
  },
  {
   "cell_type": "code",
   "execution_count": 115,
   "id": "b609d57d",
   "metadata": {},
   "outputs": [],
   "source": [
    "#categorizing data into mutiple class\n",
    "cb.text[cb['text']==\"not_cyberbullying\"]=0\n",
    "cb.text[cb['text']==\"Non-Bullying\"]=0\n",
    "cb.text[cb['text']==\"Bullying\"]=1\n",
    "cb.text[cb['text']==\"age\"]=2\n",
    "cb.text[cb['text']==\"ethnicity\"]=3\n",
    "cb.text[cb['text']==\"gender\"]=4\n",
    "cb.text[cb['text']==\"other_cyberbullying\"]=1\n",
    "cb.text[cb['text']==\"religion\"]=5"
   ]
  },
  {
   "cell_type": "code",
   "execution_count": 116,
   "id": "c4ca0a80",
   "metadata": {},
   "outputs": [
    {
     "data": {
      "text/plain": [
       "<AxesSubplot:>"
      ]
     },
     "execution_count": 116,
     "metadata": {},
     "output_type": "execute_result"
    },
    {
     "data": {
      "image/png": "[encoded data removed]",
      "text/plain": [
       "<Figure size 640x480 with 1 Axes>"
      ]
     },
     "metadata": {},
     "output_type": "display_data"
    }
   ],
   "source": [
    "#data visualization\n",
    "cb['text'].value_counts().plot(kind='bar')"
   ]
  },
  {
   "cell_type": "code",
   "execution_count": 140,
   "id": "e583643c",
   "metadata": {},
   "outputs": [
    {
     "data": {
      "text/plain": [
       "0    in other words katandandre your food was crapi...\n",
       "1    why is aussietv so white mkr theblock imaceleb...\n",
       "2    xochitlsuckkks a classy whore or more red velv...\n",
       "3    jasongio meh p  thanks for the heads up but no...\n",
       "4    rudhoeenglish this is an isis account pretendi...\n",
       "Name: tweet_text, dtype: object"
      ]
     },
     "execution_count": 140,
     "metadata": {},
     "output_type": "execute_result"
    }
   ],
   "source": [
    "import re\n",
    "import string\n",
    "cb.tweet_text.head()"
   ]
  },
  {
   "cell_type": "markdown",
   "id": "0ab27073",
   "metadata": {},
   "source": [
    "### data cleaning"
   ]
  },
  {
   "cell_type": "markdown",
   "id": "402cabf3",
   "metadata": {},
   "source": [
    "step 0: removing emojis"
   ]
  },
  {
   "cell_type": "code",
   "execution_count": 118,
   "id": "4bb2d064",
   "metadata": {},
   "outputs": [],
   "source": [
    "\n",
    "def emoji_cleaning(tweet):\n",
    "    emoji_pattern =re.compile(\"[\"\n",
    "        u\"\\U0001F600-\\U0001F64F\"  # emoticons\n",
    "        u\"\\U0001F300-\\U0001F5FF\"  # symbols & pictographs\n",
    "        u\"\\U0001F680-\\U0001F6FF\"  # transport & map symbols\n",
    "        u\"\\U0001F1E0-\\U0001F1FF\"  # flags (iOS)\n",
    "        u\"\\U00002500-\\U00002BEF\"  # chinese char\n",
    "        u\"\\U00002702-\\U000027B0\"\n",
    "        u\"\\U00002702-\\U000027B0\"\n",
    "        u\"\\U000024C2-\\U0001F251\"\n",
    "        u\"\\U0001f926-\\U0001f937\"\n",
    "        u\"\\U00010000-\\U0010ffff\"\n",
    "        u\"\\u2640-\\u2642\" \n",
    "        u\"\\u2600-\\u2B55\"\n",
    "        u\"\\u200d\"\n",
    "        u\"\\u23cf\"\n",
    "        u\"\\u23e9\"\n",
    "        u\"\\u231a\"\n",
    "        u\"\\ufe0f\"  # dingbats\n",
    "        u\"\\u3030\"\n",
    "                      \"]+\", re.UNICODE)\n",
    "    emoji_pattern.sub(r'', tweet)\n",
    "    return tweet"
   ]
  },
  {
   "cell_type": "code",
   "execution_count": 119,
   "id": "a0c29cc2",
   "metadata": {},
   "outputs": [],
   "source": [
    "round0 =lambda x:emoji_cleaning(x)"
   ]
  },
  {
   "cell_type": "code",
   "execution_count": 141,
   "id": "9df0de65",
   "metadata": {},
   "outputs": [
    {
     "data": {
      "text/html": [
       "<div>\n",
       "<style scoped>\n",
       "    .dataframe tbody tr th:only-of-type {\n",
       "        vertical-align: middle;\n",
       "    }\n",
       "\n",
       "    .dataframe tbody tr th {\n",
       "        vertical-align: top;\n",
       "    }\n",
       "\n",
       "    .dataframe thead th {\n",
       "        text-align: right;\n",
       "    }\n",
       "</style>\n",
       "<table border=\"1\" class=\"dataframe\">\n",
       "  <thead>\n",
       "    <tr style=\"text-align: right;\">\n",
       "      <th></th>\n",
       "      <th>tweet_text</th>\n",
       "      <th>text</th>\n",
       "    </tr>\n",
       "  </thead>\n",
       "  <tbody>\n",
       "    <tr>\n",
       "      <th>0</th>\n",
       "      <td>in other words katandandre your food was crapi...</td>\n",
       "      <td>0</td>\n",
       "    </tr>\n",
       "    <tr>\n",
       "      <th>1</th>\n",
       "      <td>why is aussietv so white mkr theblock imaceleb...</td>\n",
       "      <td>0</td>\n",
       "    </tr>\n",
       "    <tr>\n",
       "      <th>2</th>\n",
       "      <td>xochitlsuckkks a classy whore or more red velv...</td>\n",
       "      <td>0</td>\n",
       "    </tr>\n",
       "    <tr>\n",
       "      <th>3</th>\n",
       "      <td>jasongio meh p  thanks for the heads up but no...</td>\n",
       "      <td>0</td>\n",
       "    </tr>\n",
       "    <tr>\n",
       "      <th>4</th>\n",
       "      <td>rudhoeenglish this is an isis account pretendi...</td>\n",
       "      <td>0</td>\n",
       "    </tr>\n",
       "  </tbody>\n",
       "</table>\n",
       "</div>"
      ],
      "text/plain": [
       "                                          tweet_text text\n",
       "0  in other words katandandre your food was crapi...    0\n",
       "1  why is aussietv so white mkr theblock imaceleb...    0\n",
       "2  xochitlsuckkks a classy whore or more red velv...    0\n",
       "3  jasongio meh p  thanks for the heads up but no...    0\n",
       "4  rudhoeenglish this is an isis account pretendi...    0"
      ]
     },
     "execution_count": 141,
     "metadata": {},
     "output_type": "execute_result"
    }
   ],
   "source": [
    "cb.tweet_text =(cb.tweet_text.apply(round0))\n",
    "cb.head()"
   ]
  },
  {
   "cell_type": "markdown",
   "id": "6bf76c61",
   "metadata": {},
   "source": [
    "step 1: lowering uppercase and removing puncutations"
   ]
  },
  {
   "cell_type": "code",
   "execution_count": 121,
   "id": "1600dd9e",
   "metadata": {},
   "outputs": [],
   "source": [
    "def data_cleaning1(tweet):\n",
    "    tweet =tweet.lower()\n",
    "    tweet =re.sub('\\[.*?\\]','',tweet)\n",
    "    tweet =re.sub('[%s]' % re.escape(string.punctuation),'',tweet)\n",
    "    tweet =re.sub('\\w*\\d\\w*','',tweet)\n",
    "    return tweet"
   ]
  },
  {
   "cell_type": "code",
   "execution_count": 122,
   "id": "95b44f06",
   "metadata": {},
   "outputs": [],
   "source": [
    "round1 =lambda x:data_cleaning1(x)"
   ]
  },
  {
   "cell_type": "code",
   "execution_count": 143,
   "id": "fed9ca10",
   "metadata": {},
   "outputs": [
    {
     "data": {
      "text/html": [
       "<div>\n",
       "<style scoped>\n",
       "    .dataframe tbody tr th:only-of-type {\n",
       "        vertical-align: middle;\n",
       "    }\n",
       "\n",
       "    .dataframe tbody tr th {\n",
       "        vertical-align: top;\n",
       "    }\n",
       "\n",
       "    .dataframe thead th {\n",
       "        text-align: right;\n",
       "    }\n",
       "</style>\n",
       "<table border=\"1\" class=\"dataframe\">\n",
       "  <thead>\n",
       "    <tr style=\"text-align: right;\">\n",
       "      <th></th>\n",
       "      <th>tweet_text</th>\n",
       "      <th>text</th>\n",
       "    </tr>\n",
       "  </thead>\n",
       "  <tbody>\n",
       "    <tr>\n",
       "      <th>0</th>\n",
       "      <td>in other words katandandre your food was crapi...</td>\n",
       "      <td>0</td>\n",
       "    </tr>\n",
       "    <tr>\n",
       "      <th>1</th>\n",
       "      <td>why is aussietv so white mkr theblock imaceleb...</td>\n",
       "      <td>0</td>\n",
       "    </tr>\n",
       "    <tr>\n",
       "      <th>2</th>\n",
       "      <td>xochitlsuckkks a classy whore or more red velv...</td>\n",
       "      <td>0</td>\n",
       "    </tr>\n",
       "    <tr>\n",
       "      <th>3</th>\n",
       "      <td>jasongio meh p  thanks for the heads up but no...</td>\n",
       "      <td>0</td>\n",
       "    </tr>\n",
       "    <tr>\n",
       "      <th>4</th>\n",
       "      <td>rudhoeenglish this is an isis account pretendi...</td>\n",
       "      <td>0</td>\n",
       "    </tr>\n",
       "  </tbody>\n",
       "</table>\n",
       "</div>"
      ],
      "text/plain": [
       "                                          tweet_text text\n",
       "0  in other words katandandre your food was crapi...    0\n",
       "1  why is aussietv so white mkr theblock imaceleb...    0\n",
       "2  xochitlsuckkks a classy whore or more red velv...    0\n",
       "3  jasongio meh p  thanks for the heads up but no...    0\n",
       "4  rudhoeenglish this is an isis account pretendi...    0"
      ]
     },
     "execution_count": 143,
     "metadata": {},
     "output_type": "execute_result"
    }
   ],
   "source": [
    "cb.tweet_text =(cb.tweet_text.apply(round1))\n",
    "cb.head()"
   ]
  },
  {
   "cell_type": "markdown",
   "id": "be75ab77",
   "metadata": {},
   "source": [
    "step2 :removing special charcters"
   ]
  },
  {
   "cell_type": "code",
   "execution_count": 124,
   "id": "4d0e9ca5",
   "metadata": {},
   "outputs": [],
   "source": [
    "def data_cleaning2(tweet):\n",
    "    tweet=re.sub('[''\"\"...]','',tweet)\n",
    "    tweet=re.sub('\\n','',tweet)\n",
    "    return tweet"
   ]
  },
  {
   "cell_type": "code",
   "execution_count": 125,
   "id": "d14c71dc",
   "metadata": {},
   "outputs": [],
   "source": [
    "round2 =lambda x:data_cleaning2(x)"
   ]
  },
  {
   "cell_type": "code",
   "execution_count": 144,
   "id": "da266ddf",
   "metadata": {},
   "outputs": [],
   "source": [
    "cb.tweet_text =(cb.tweet_text.apply(round2))\n"
   ]
  },
  {
   "cell_type": "markdown",
   "id": "06c364ee",
   "metadata": {},
   "source": [
    "step 3: removing assented text"
   ]
  },
  {
   "cell_type": "code",
   "execution_count": 131,
   "id": "d052b896",
   "metadata": {},
   "outputs": [],
   "source": [
    "import unicodedata"
   ]
  },
  {
   "cell_type": "code",
   "execution_count": 134,
   "id": "9faf5df7",
   "metadata": {},
   "outputs": [],
   "source": [
    "def data_cleaning3(tweet):\n",
    "    tweet =unicodedata.normalize('NFKD',tweet).encode('ascii','ignore').decode('utf-8','ignore')\n",
    "    return tweet"
   ]
  },
  {
   "cell_type": "code",
   "execution_count": 135,
   "id": "0242034d",
   "metadata": {},
   "outputs": [],
   "source": [
    "round3 = lambda x:data_cleaning3(x)"
   ]
  },
  {
   "cell_type": "code",
   "execution_count": 136,
   "id": "4211ae56",
   "metadata": {},
   "outputs": [],
   "source": [
    "cb.tweet_text =(cb.tweet_text.apply(round3))"
   ]
  },
  {
   "cell_type": "code",
   "execution_count": 145,
   "id": "2abe5015",
   "metadata": {},
   "outputs": [
    {
     "data": {
      "text/html": [
       "<div>\n",
       "<style scoped>\n",
       "    .dataframe tbody tr th:only-of-type {\n",
       "        vertical-align: middle;\n",
       "    }\n",
       "\n",
       "    .dataframe tbody tr th {\n",
       "        vertical-align: top;\n",
       "    }\n",
       "\n",
       "    .dataframe thead th {\n",
       "        text-align: right;\n",
       "    }\n",
       "</style>\n",
       "<table border=\"1\" class=\"dataframe\">\n",
       "  <thead>\n",
       "    <tr style=\"text-align: right;\">\n",
       "      <th></th>\n",
       "      <th>tweet_text</th>\n",
       "      <th>text</th>\n",
       "    </tr>\n",
       "  </thead>\n",
       "  <tbody>\n",
       "    <tr>\n",
       "      <th>0</th>\n",
       "      <td>in other words katandandre your food was crapi...</td>\n",
       "      <td>0</td>\n",
       "    </tr>\n",
       "    <tr>\n",
       "      <th>1</th>\n",
       "      <td>why is aussietv so white mkr theblock imaceleb...</td>\n",
       "      <td>0</td>\n",
       "    </tr>\n",
       "    <tr>\n",
       "      <th>2</th>\n",
       "      <td>xochitlsuckkks a classy whore or more red velv...</td>\n",
       "      <td>0</td>\n",
       "    </tr>\n",
       "    <tr>\n",
       "      <th>3</th>\n",
       "      <td>jasongio meh p  thanks for the heads up but no...</td>\n",
       "      <td>0</td>\n",
       "    </tr>\n",
       "    <tr>\n",
       "      <th>4</th>\n",
       "      <td>rudhoeenglish this is an isis account pretendi...</td>\n",
       "      <td>0</td>\n",
       "    </tr>\n",
       "  </tbody>\n",
       "</table>\n",
       "</div>"
      ],
      "text/plain": [
       "                                          tweet_text text\n",
       "0  in other words katandandre your food was crapi...    0\n",
       "1  why is aussietv so white mkr theblock imaceleb...    0\n",
       "2  xochitlsuckkks a classy whore or more red velv...    0\n",
       "3  jasongio meh p  thanks for the heads up but no...    0\n",
       "4  rudhoeenglish this is an isis account pretendi...    0"
      ]
     },
     "execution_count": 145,
     "metadata": {},
     "output_type": "execute_result"
    }
   ],
   "source": [
    "cb.head()"
   ]
  },
  {
   "cell_type": "markdown",
   "id": "e54d7b4d",
   "metadata": {},
   "source": [
    "to visualize data better"
   ]
  },
  {
   "cell_type": "code",
   "execution_count": 139,
   "id": "5de800d5",
   "metadata": {},
   "outputs": [],
   "source": [
    "#cb.to_excel(r'E:\\VIT PUNE\\2nd year\\EDI\\cyberbullyingEDI\\Cyberbullying.xlsx', sheet_name='new data', index = False)"
   ]
  },
  {
   "cell_type": "code",
   "execution_count": 61,
   "id": "4c9898e1",
   "metadata": {},
   "outputs": [],
   "source": []
  },
  {
   "cell_type": "code",
   "execution_count": null,
   "id": "f71d6f25",
   "metadata": {},
   "outputs": [],
   "source": []
  }
 ],
 "metadata": {
  "kernelspec": {
   "display_name": "Python 3 (ipykernel)",
   "language": "python",
   "name": "python3"
  },
  "language_info": {
   "codemirror_mode": {
    "name": "ipython",
    "version": 3
   },
   "file_extension": ".py",
   "mimetype": "text/x-python",
   "name": "python",
   "nbconvert_exporter": "python",
   "pygments_lexer": "ipython3",
   "version": "3.9.13"
  },
  "vscode": {
   "interpreter": {
    "hash": "1faf9e0c59a8b9684b2e3af3812bde9208b0afc7538bdfe7f7e89f6da36c0b1e"
   }
  }
 },
 "nbformat": 4,
 "nbformat_minor": 5
}
